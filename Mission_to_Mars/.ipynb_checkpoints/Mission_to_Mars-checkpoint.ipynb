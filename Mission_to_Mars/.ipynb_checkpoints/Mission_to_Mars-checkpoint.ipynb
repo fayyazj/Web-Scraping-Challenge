{
 "cells": [
  {
   "cell_type": "code",
   "execution_count": null,
   "metadata": {},
   "outputs": [],
   "source": [
    "#IMPORT DEPENDENCIES\n",
    "import pymongo\n",
    "from flask import Flask, render_template\n",
    "from scrape_mars import scrape\n",
    "\n",
    "# PyMongo Setup\n",
    "client = pymongo.MongoClient('mongodb://localhost:27017')\n",
    "db = client.MarsDB\n",
    "\n",
    "# Flask Setup\n",
    "app = Flask(__name__)\n",
    "\n",
    "# Flask Routes\n",
    "@app.route(\"/\")\n",
    "def displaydata():\n",
    "    data = list(db.posts.find())[-1]\n",
    "    return render_template(\"index.html\", data=data)\n",
    "\n",
    "@app.route(\"/scrape\")\n",
    "def flaskscrape():\n",
    "    scrapings = scrape()\n",
    "    #posts = db.posts\n",
    "    db.posts.insert_one(scrapings)\n",
    "    return \"Scraping complete.\"\n",
    "    \n",
    "if __name__ == '__main__':\n",
    "    app.run(debug=True)"
   ]
  }
 ],
 "metadata": {
  "kernelspec": {
   "display_name": "Python 3",
   "language": "python",
   "name": "python3"
  },
  "language_info": {
   "codemirror_mode": {
    "name": "ipython",
    "version": 3
   },
   "file_extension": ".py",
   "mimetype": "text/x-python",
   "name": "python",
   "nbconvert_exporter": "python",
   "pygments_lexer": "ipython3",
   "version": "3.7.3"
  }
 },
 "nbformat": 4,
 "nbformat_minor": 4
}
