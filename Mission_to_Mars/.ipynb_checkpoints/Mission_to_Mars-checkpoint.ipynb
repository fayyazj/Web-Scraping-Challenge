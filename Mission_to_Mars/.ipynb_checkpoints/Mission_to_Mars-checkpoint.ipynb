{
 "cells": [
  {
   "cell_type": "code",
   "execution_count": null,
   "metadata": {},
   "outputs": [],
   "source": [
    "#IMPORT DEPENDENCIES\n",
    "from pymongo import MongoClient\n",
    "from flask import Flask\n",
    "from scrape_mars import scrape\n",
    "\n",
    "# PyMongo Setup\n",
    "client = MongoClient()\n",
    "db = client['MarsDB']\n",
    "collection = db['ScrapedData']\n",
    "\n",
    "# Flask Setup\n",
    "app = Flask(__name__)\n",
    "\n",
    "# Flask Routes\n",
    "@app.route(\"/\")\n",
    "def displaydata():\n",
    "    featured_image = 'https://jpl.nasa.gov/spaceimages/images/mediumsize/PIA19871_ip.jpg'\n",
    "    return render_template(\"index.html\", featured_image=featured_image)\n",
    "\n",
    "@app.route(\"/scrape\")\n",
    "def scrape():\n",
    "    scrapings = scrape()\n",
    "    posts = db.posts\n",
    "    post_id = posts.insert_one(scrapings).inserted_id\n",
    "    \n",
    "if __name__ == '__main__':\n",
    "    app.run(debug=True)"
   ]
  }
 ],
 "metadata": {
  "kernelspec": {
   "display_name": "Python 3",
   "language": "python",
   "name": "python3"
  },
  "language_info": {
   "codemirror_mode": {
    "name": "ipython",
    "version": 3
   },
   "file_extension": ".py",
   "mimetype": "text/x-python",
   "name": "python",
   "nbconvert_exporter": "python",
   "pygments_lexer": "ipython3",
   "version": "3.7.3"
  }
 },
 "nbformat": 4,
 "nbformat_minor": 4
}
