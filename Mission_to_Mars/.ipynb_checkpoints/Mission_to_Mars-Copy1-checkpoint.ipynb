{
 "cells": [
  {
   "cell_type": "code",
   "execution_count": 1,
   "metadata": {},
   "outputs": [
    {
     "name": "stdout",
     "output_type": "stream",
     "text": [
      "[{'headline': 'NASA Garners 7 Webby Award Nominations',\n",
      "  'paragraph': 'Nominees include four JPL projects: the solar system and '\n",
      "               'climate websites, InSight social media, and a 360-degree Earth '\n",
      "               'video. Public voting closes April 18, 2019.'},\n",
      " {'headline': \"NASA's Opportunity Rover Mission on Mars Comes to End\",\n",
      "  'paragraph': \"NASA's Opportunity Mars rover mission is complete after 15 \"\n",
      "               \"years on Mars. Opportunity's record-breaking exploration laid \"\n",
      "               'the groundwork for future missions to the Red Planet.'},\n",
      " {'headline': \"NASA's InSight Places First Instrument on Mars\",\n",
      "  'paragraph': 'In deploying its first instrument onto the surface of Mars, '\n",
      "               'the lander completes a major mission milestone.'},\n",
      " {'headline': 'NASA Invites Students to Name Mars 2020 Rover',\n",
      "  'paragraph': 'Through Nov. 1, K-12 students in the U.S. are encouraged to '\n",
      "               \"enter an essay contest to name NASA's next Mars rover.\"},\n",
      " {'headline': \"NASA's Curiosity Mars Rover Finds a Clay Cache\",\n",
      "  'paragraph': 'The rover recently drilled two samples, and both showed the '\n",
      "               'highest levels of clay ever found during the mission.'},\n",
      " {'headline': 'Why This Martian Full Moon Looks Like Candy',\n",
      "  'paragraph': \"For the first time, NASA's Mars Odyssey orbiter has caught the \"\n",
      "               'Martian moon Phobos during a full moon phase. Each color in '\n",
      "               'this new image represents a temperature range detected by '\n",
      "               \"Odyssey's infrared camera.\"},\n",
      " {'headline': 'NASA Garners 7 Webby Award Nominations',\n",
      "  'paragraph': 'Nominees include four JPL projects: the solar system and '\n",
      "               'climate websites, InSight social media, and a 360-degree Earth '\n",
      "               'video. Public voting closes April 18, 2019.'},\n",
      " {'headline': \"NASA's Opportunity Rover Mission on Mars Comes to End\",\n",
      "  'paragraph': \"NASA's Opportunity Mars rover mission is complete after 15 \"\n",
      "               \"years on Mars. Opportunity's record-breaking exploration laid \"\n",
      "               'the groundwork for future missions to the Red Planet.'},\n",
      " {'headline': \"NASA's InSight Places First Instrument on Mars\",\n",
      "  'paragraph': 'In deploying its first instrument onto the surface of Mars, '\n",
      "               'the lander completes a major mission milestone.'},\n",
      " {'headline': 'NASA Invites Students to Name Mars 2020 Rover',\n",
      "  'paragraph': 'Through Nov. 1, K-12 students in the U.S. are encouraged to '\n",
      "               \"enter an essay contest to name NASA's next Mars rover.\"},\n",
      " {'headline': \"NASA's Curiosity Mars Rover Finds a Clay Cache\",\n",
      "  'paragraph': 'The rover recently drilled two samples, and both showed the '\n",
      "               'highest levels of clay ever found during the mission.'},\n",
      " {'headline': 'Why This Martian Full Moon Looks Like Candy',\n",
      "  'paragraph': \"For the first time, NASA's Mars Odyssey orbiter has caught the \"\n",
      "               'Martian moon Phobos during a full moon phase. Each color in '\n",
      "               'this new image represents a temperature range detected by '\n",
      "               \"Odyssey's infrared camera.\"}]\n"
     ]
    }
   ],
   "source": [
    "# Import Dependencies\n",
    "from splinter import Browser\n",
    "import pandas as pd\n",
    "from flask import Flask, render_template\n",
    "import requests\n",
    "from bs4 import BeautifulSoup \n",
    "import urllib.parse\n",
    "import pymongo\n",
    "from pprint import pprint\n",
    "\n",
    "executable_path ={'executable_path':'/usr/local/bin/chromedriver'}\n",
    "browser = Browser('chrome', **executable_path, headless=False)\n",
    "\n",
    "url = 'https://mars.nasa.gov/news/'\n",
    "browser.visit(url)\n",
    "\n",
    "soup = BeautifulSoup(browser.html)\n",
    "\n",
    "\n",
    "list = soup.find_all('div', class_='slide')\n",
    "list_contents = []\n",
    "for li in list:\n",
    "    news_p = li.find('div', class_='rollover_description_inner').contents[0].replace('\\n','')\n",
    "    news_title = li.find('div', class_='content_title').find('a').contents[0].replace('\\n','')\n",
    "    list_contents.append({'headline':news_title, 'paragraph':news_p})\n",
    "    \n",
    "pprint(list_contents)"
   ]
  },
  {
   "cell_type": "code",
   "execution_count": 2,
   "metadata": {},
   "outputs": [],
   "source": [
    "url2 = 'https://www.jpl.nasa.gov/spaceimages/?search=&category=Mars'\n",
    "browser.visit(url2)\n",
    "\n",
    "soup = BeautifulSoup(browser.html)\n",
    "foot = soup.find('footer')"
   ]
  },
  {
   "cell_type": "code",
   "execution_count": 3,
   "metadata": {},
   "outputs": [
    {
     "data": {
      "text/plain": [
       "'jpl.nasa.gov/spaceimages/images/mediumsize/PIA18914_ip.jpg'"
      ]
     },
     "execution_count": 3,
     "metadata": {},
     "output_type": "execute_result"
    }
   ],
   "source": [
    "link = foot.find('a')['data-fancybox-href']\n",
    "featured_image_url = 'jpl.nasa.gov' + link\n",
    "#featured_image_url"
   ]
  },
  {
   "cell_type": "code",
   "execution_count": 4,
   "metadata": {},
   "outputs": [
    {
     "data": {
      "text/plain": [
       "'InSight sol 344 (2019-11-15) low -99.9ºC (-147.9ºF) high -23.3ºC (-9.9ºF)\\nwinds from the SSE at 5.7 m/s (12.9 mph) gusting to 18.9 m/s (42.3 mph)\\npressure at 6.80 hPa'"
      ]
     },
     "execution_count": 4,
     "metadata": {},
     "output_type": "execute_result"
    }
   ],
   "source": [
    "url3 = 'https://twitter.com/marswxreport?lang=en'\n",
    "browser.visit(url3)\n",
    "soup = BeautifulSoup(browser.html)\n",
    "\n",
    "mars_weather = soup.find('p', class_='TweetTextSize TweetTextSize--normal js-tweet-text tweet-text').contents[0]\n",
    "#mars_weather"
   ]
  },
  {
   "cell_type": "code",
   "execution_count": 5,
   "metadata": {},
   "outputs": [
    {
     "data": {
      "text/html": [
       "<div>\n",
       "<style scoped>\n",
       "    .dataframe tbody tr th:only-of-type {\n",
       "        vertical-align: middle;\n",
       "    }\n",
       "\n",
       "    .dataframe tbody tr th {\n",
       "        vertical-align: top;\n",
       "    }\n",
       "\n",
       "    .dataframe thead th {\n",
       "        text-align: right;\n",
       "    }\n",
       "</style>\n",
       "<table border=\"1\" class=\"dataframe\">\n",
       "  <thead>\n",
       "    <tr style=\"text-align: right;\">\n",
       "      <th></th>\n",
       "      <th>0</th>\n",
       "      <th>1</th>\n",
       "    </tr>\n",
       "  </thead>\n",
       "  <tbody>\n",
       "    <tr>\n",
       "      <th>0</th>\n",
       "      <td>Equatorial Diameter:</td>\n",
       "      <td>6,792 km</td>\n",
       "    </tr>\n",
       "    <tr>\n",
       "      <th>1</th>\n",
       "      <td>Polar Diameter:</td>\n",
       "      <td>6,752 km</td>\n",
       "    </tr>\n",
       "    <tr>\n",
       "      <th>2</th>\n",
       "      <td>Mass:</td>\n",
       "      <td>6.39 × 10^23 kg (0.11 Earths)</td>\n",
       "    </tr>\n",
       "    <tr>\n",
       "      <th>3</th>\n",
       "      <td>Moons:</td>\n",
       "      <td>2 (Phobos &amp; Deimos)</td>\n",
       "    </tr>\n",
       "    <tr>\n",
       "      <th>4</th>\n",
       "      <td>Orbit Distance:</td>\n",
       "      <td>227,943,824 km (1.38 AU)</td>\n",
       "    </tr>\n",
       "    <tr>\n",
       "      <th>5</th>\n",
       "      <td>Orbit Period:</td>\n",
       "      <td>687 days (1.9 years)</td>\n",
       "    </tr>\n",
       "    <tr>\n",
       "      <th>6</th>\n",
       "      <td>Surface Temperature:</td>\n",
       "      <td>-87 to -5 °C</td>\n",
       "    </tr>\n",
       "    <tr>\n",
       "      <th>7</th>\n",
       "      <td>First Record:</td>\n",
       "      <td>2nd millennium BC</td>\n",
       "    </tr>\n",
       "    <tr>\n",
       "      <th>8</th>\n",
       "      <td>Recorded By:</td>\n",
       "      <td>Egyptian astronomers</td>\n",
       "    </tr>\n",
       "  </tbody>\n",
       "</table>\n",
       "</div>"
      ],
      "text/plain": [
       "                      0                              1\n",
       "0  Equatorial Diameter:                       6,792 km\n",
       "1       Polar Diameter:                       6,752 km\n",
       "2                 Mass:  6.39 × 10^23 kg (0.11 Earths)\n",
       "3                Moons:            2 (Phobos & Deimos)\n",
       "4       Orbit Distance:       227,943,824 km (1.38 AU)\n",
       "5         Orbit Period:           687 days (1.9 years)\n",
       "6  Surface Temperature:                   -87 to -5 °C\n",
       "7         First Record:              2nd millennium BC\n",
       "8          Recorded By:           Egyptian astronomers"
      ]
     },
     "execution_count": 5,
     "metadata": {},
     "output_type": "execute_result"
    }
   ],
   "source": [
    "url4 = 'https://space-facts.com/mars/'\n",
    "mars_facts_df = pd.read_html(url4)[0]\n",
    "#mars_facts_df"
   ]
  },
  {
   "cell_type": "code",
   "execution_count": 6,
   "metadata": {},
   "outputs": [
    {
     "name": "stdout",
     "output_type": "stream",
     "text": [
      "('<table border=\"1\" class=\"dataframe\">\\n'\n",
      " '  <thead>\\n'\n",
      " '    <tr style=\"text-align: right;\">\\n'\n",
      " '      <th></th>\\n'\n",
      " '      <th>0</th>\\n'\n",
      " '      <th>1</th>\\n'\n",
      " '    </tr>\\n'\n",
      " '  </thead>\\n'\n",
      " '  <tbody>\\n'\n",
      " '    <tr>\\n'\n",
      " '      <th>0</th>\\n'\n",
      " '      <td>Equatorial Diameter:</td>\\n'\n",
      " '      <td>6,792 km</td>\\n'\n",
      " '    </tr>\\n'\n",
      " '    <tr>\\n'\n",
      " '      <th>1</th>\\n'\n",
      " '      <td>Polar Diameter:</td>\\n'\n",
      " '      <td>6,752 km</td>\\n'\n",
      " '    </tr>\\n'\n",
      " '    <tr>\\n'\n",
      " '      <th>2</th>\\n'\n",
      " '      <td>Mass:</td>\\n'\n",
      " '      <td>6.39 × 10^23 kg (0.11 Earths)</td>\\n'\n",
      " '    </tr>\\n'\n",
      " '    <tr>\\n'\n",
      " '      <th>3</th>\\n'\n",
      " '      <td>Moons:</td>\\n'\n",
      " '      <td>2 (Phobos &amp; Deimos)</td>\\n'\n",
      " '    </tr>\\n'\n",
      " '    <tr>\\n'\n",
      " '      <th>4</th>\\n'\n",
      " '      <td>Orbit Distance:</td>\\n'\n",
      " '      <td>227,943,824 km (1.38 AU)</td>\\n'\n",
      " '    </tr>\\n'\n",
      " '    <tr>\\n'\n",
      " '      <th>5</th>\\n'\n",
      " '      <td>Orbit Period:</td>\\n'\n",
      " '      <td>687 days (1.9 years)</td>\\n'\n",
      " '    </tr>\\n'\n",
      " '    <tr>\\n'\n",
      " '      <th>6</th>\\n'\n",
      " '      <td>Surface Temperature:</td>\\n'\n",
      " '      <td>-87 to -5 °C</td>\\n'\n",
      " '    </tr>\\n'\n",
      " '    <tr>\\n'\n",
      " '      <th>7</th>\\n'\n",
      " '      <td>First Record:</td>\\n'\n",
      " '      <td>2nd millennium BC</td>\\n'\n",
      " '    </tr>\\n'\n",
      " '    <tr>\\n'\n",
      " '      <th>8</th>\\n'\n",
      " '      <td>Recorded By:</td>\\n'\n",
      " '      <td>Egyptian astronomers</td>\\n'\n",
      " '    </tr>\\n'\n",
      " '  </tbody>\\n'\n",
      " '</table>')\n"
     ]
    }
   ],
   "source": [
    "table_html = mars_facts_df.to_html()\n",
    "#pprint(table_html)"
   ]
  },
  {
   "cell_type": "code",
   "execution_count": 9,
   "metadata": {},
   "outputs": [
    {
     "data": {
      "text/plain": [
       "[{'title': 'Cerberus Hemisphere Enhanced',\n",
       "  'img_url': 'http://astropedia.astrogeology.usgs.gov/download/Mars/Viking/cerberus_enhanced.tif/full.jpg'},\n",
       " {'title': 'Schiaparelli Hemisphere Enhanced',\n",
       "  'img_url': 'http://astropedia.astrogeology.usgs.gov/download/Mars/Viking/schiaparelli_enhanced.tif/full.jpg'},\n",
       " {'title': 'Syrtis Major Hemisphere Enhanced',\n",
       "  'img_url': 'http://astropedia.astrogeology.usgs.gov/download/Mars/Viking/syrtis_major_enhanced.tif/full.jpg'},\n",
       " {'title': 'Valles Marineris Hemisphere Enhanced',\n",
       "  'img_url': 'http://astropedia.astrogeology.usgs.gov/download/Mars/Viking/valles_marineris_enhanced.tif/full.jpg'}]"
      ]
     },
     "execution_count": 9,
     "metadata": {},
     "output_type": "execute_result"
    }
   ],
   "source": [
    "url5 = 'https://astrogeology.usgs.gov/search/results?q=hemisphere+enhanced&k1=target&v1=Mars'\n",
    "browser.visit(url5)\n",
    "soup = BeautifulSoup(browser.html)\n",
    "\n",
    "descriptions = soup.find_all('div', class_='description')\n",
    "\n",
    "images_list = []\n",
    "\n",
    "for desc in descriptions:\n",
    "    browser.visit(url5)\n",
    "    soup = BeautifulSoup(browser.html)\n",
    "    text = desc.find('h3').contents[0]\n",
    "    browser.click_link_by_partial_text(text)\n",
    "    soup = BeautifulSoup(browser.html)\n",
    "    img_url = soup.find('li').find('a')['href']\n",
    "    images_list.append({'title':text, 'img_url':img_url})\n",
    "    \n",
    "dict = {\n",
    "    'nasa_news': list_contents,\n",
    "    'featured_image_url': featured_image_url,\n",
    "    'weather': mars_weather,\n",
    "    'mars_facts': table_html,\n",
    "    'images': images_list\n",
    "    }\n",
    "\n",
    "    \n",
    "#images_list"
   ]
  },
  {
   "cell_type": "code",
   "execution_count": null,
   "metadata": {},
   "outputs": [],
   "source": []
  }
 ],
 "metadata": {
  "kernelspec": {
   "display_name": "Python 3",
   "language": "python",
   "name": "python3"
  },
  "language_info": {
   "codemirror_mode": {
    "name": "ipython",
    "version": 3
   },
   "file_extension": ".py",
   "mimetype": "text/x-python",
   "name": "python",
   "nbconvert_exporter": "python",
   "pygments_lexer": "ipython3",
   "version": "3.7.3"
  }
 },
 "nbformat": 4,
 "nbformat_minor": 4
}
